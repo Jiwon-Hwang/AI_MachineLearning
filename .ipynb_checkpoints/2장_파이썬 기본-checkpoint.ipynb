{
 "cells": [
  {
   "cell_type": "markdown",
   "metadata": {},
   "source": [
    "# 2.1 사칙연산"
   ]
  },
  {
   "cell_type": "code",
   "execution_count": 1,
   "metadata": {},
   "outputs": [
    {
     "data": {
      "text/plain": [
       "3"
      ]
     },
     "execution_count": 1,
     "metadata": {},
     "output_type": "execute_result"
    }
   ],
   "source": [
    "1+2"
   ]
  },
  {
   "cell_type": "code",
   "execution_count": 2,
   "metadata": {},
   "outputs": [
    {
     "data": {
      "text/plain": [
       "0.6"
      ]
     },
     "execution_count": 2,
     "metadata": {},
     "output_type": "execute_result"
    }
   ],
   "source": [
    "(1+2*3-4)/5"
   ]
  },
  {
   "cell_type": "code",
   "execution_count": 3,
   "metadata": {},
   "outputs": [
    {
     "data": {
      "text/plain": [
       "256"
      ]
     },
     "execution_count": 3,
     "metadata": {},
     "output_type": "execute_result"
    }
   ],
   "source": [
    "2**8"
   ]
  },
  {
   "cell_type": "markdown",
   "metadata": {},
   "source": [
    "# 2.2 변수"
   ]
  },
  {
   "cell_type": "code",
   "execution_count": 4,
   "metadata": {},
   "outputs": [
    {
     "data": {
      "text/plain": [
       "1.3333333333333333"
      ]
     },
     "execution_count": 4,
     "metadata": {},
     "output_type": "execute_result"
    }
   ],
   "source": [
    "x=1\n",
    "y=1/3\n",
    "x+y"
   ]
  },
  {
   "cell_type": "code",
   "execution_count": 5,
   "metadata": {},
   "outputs": [
    {
     "data": {
      "text/plain": [
       "0.8"
      ]
     },
     "execution_count": 5,
     "metadata": {},
     "output_type": "execute_result"
    }
   ],
   "source": [
    "Data_1 = 1/5\n",
    "Data_2 = 3/5\n",
    "Data_1 + Data_2 "
   ]
  },
  {
   "cell_type": "markdown",
   "metadata": {},
   "source": [
    "# 2.3 자료형"
   ]
  },
  {
   "cell_type": "code",
   "execution_count": 6,
   "metadata": {},
   "outputs": [
    {
     "data": {
      "text/plain": [
       "int"
      ]
     },
     "execution_count": 6,
     "metadata": {},
     "output_type": "execute_result"
    }
   ],
   "source": [
    "type(100)"
   ]
  },
  {
   "cell_type": "code",
   "execution_count": 7,
   "metadata": {},
   "outputs": [
    {
     "data": {
      "text/plain": [
       "float"
      ]
     },
     "execution_count": 7,
     "metadata": {},
     "output_type": "execute_result"
    }
   ],
   "source": [
    "type(100.1)"
   ]
  },
  {
   "cell_type": "code",
   "execution_count": 8,
   "metadata": {},
   "outputs": [
    {
     "data": {
      "text/plain": [
       "int"
      ]
     },
     "execution_count": 8,
     "metadata": {},
     "output_type": "execute_result"
    }
   ],
   "source": [
    "x=100\n",
    "type(x)"
   ]
  },
  {
   "cell_type": "code",
   "execution_count": 9,
   "metadata": {},
   "outputs": [
    {
     "data": {
      "text/plain": [
       "float"
      ]
     },
     "execution_count": 9,
     "metadata": {},
     "output_type": "execute_result"
    }
   ],
   "source": [
    "x=100.1\n",
    "type(x)"
   ]
  },
  {
   "cell_type": "code",
   "execution_count": 10,
   "metadata": {},
   "outputs": [
    {
     "data": {
      "text/plain": [
       "str"
      ]
     },
     "execution_count": 10,
     "metadata": {},
     "output_type": "execute_result"
    }
   ],
   "source": [
    "x='learning'\n",
    "type(x)"
   ]
  },
  {
   "cell_type": "markdown",
   "metadata": {},
   "source": [
    "# 2.4 print문"
   ]
  },
  {
   "cell_type": "code",
   "execution_count": 12,
   "metadata": {},
   "outputs": [
    {
     "data": {
      "text/plain": [
       "0.6666666666666666"
      ]
     },
     "execution_count": 12,
     "metadata": {},
     "output_type": "execute_result"
    }
   ],
   "source": [
    "x=1/3\n",
    "x\n",
    "y=2/3\n",
    "y"
   ]
  },
  {
   "cell_type": "code",
   "execution_count": 13,
   "metadata": {},
   "outputs": [
    {
     "name": "stdout",
     "output_type": "stream",
     "text": [
      "0.3333333333333333\n",
      "0.6666666666666666\n"
     ]
    }
   ],
   "source": [
    "x=1/3\n",
    "print(x)\n",
    "y=2/3\n",
    "print(y)"
   ]
  },
  {
   "cell_type": "code",
   "execution_count": 16,
   "metadata": {},
   "outputs": [
    {
     "name": "stdout",
     "output_type": "stream",
     "text": [
      "x= 0.3333333333333333\n"
     ]
    }
   ],
   "source": [
    "print('x= ' + str(x))  #str형에서는 +가 덧셈이 아니라 str형 값을 연결하는 역할. (여기서 str(x)대신 x만 쓰면 에러! x는 float형이므로)"
   ]
  },
  {
   "cell_type": "code",
   "execution_count": 31,
   "metadata": {},
   "outputs": [
    {
     "name": "stdout",
     "output_type": "stream",
     "text": [
      "weight = [1, 1, 2, 3, 5] kg\n"
     ]
    }
   ],
   "source": [
    "print('weight = {0} kg'.format(x))  #print()내부에 '문자열'.format(x)가 있음. \"문자열 중 {0}부분을 x로 대체한다\"는 뜻."
   ]
  },
  {
   "cell_type": "code",
   "execution_count": 33,
   "metadata": {},
   "outputs": [
    {
     "name": "stdout",
     "output_type": "stream",
     "text": [
      "weight: 0.3333333333333333 kg 0.14285714285714285 kg 0.25 kg\n"
     ]
    }
   ],
   "source": [
    "x=1/3\n",
    "y=1/7\n",
    "z=1/4\n",
    "print('weight: {0} kg {1} kg {2} kg'.format(x,y,z))"
   ]
  },
  {
   "cell_type": "code",
   "execution_count": 19,
   "metadata": {},
   "outputs": [
    {
     "name": "stdout",
     "output_type": "stream",
     "text": [
      "weight: 0.33 kg, y=0.14 kg, z=0.25 kg\n"
     ]
    }
   ],
   "source": [
    "print('weight: {0:.2f} kg, y={1:.2f} kg, z={2:.2f} kg'.format(x,y,z))  #***소수점 이하 n자리까지 표시. ex. '{0:.f}'.format(x)"
   ]
  },
  {
   "cell_type": "markdown",
   "metadata": {},
   "source": [
    "# 2.5 list (배열)"
   ]
  },
  {
   "cell_type": "code",
   "execution_count": 59,
   "metadata": {
    "scrolled": false
   },
   "outputs": [
    {
     "name": "stdout",
     "output_type": "stream",
     "text": [
      "[1, 1, 2, 3, 5]\n"
     ]
    },
    {
     "data": {
      "text/plain": [
       "list"
      ]
     },
     "execution_count": 59,
     "metadata": {},
     "output_type": "execute_result"
    }
   ],
   "source": [
    "x=[1,1,2,3,5] #list 정의\n",
    "print(x) #list 출력1  => 결과로 출력됨\n",
    "x #list 출력2  => out으로 표시됨\n",
    "type(x)"
   ]
  },
  {
   "cell_type": "code",
   "execution_count": 38,
   "metadata": {},
   "outputs": [
    {
     "data": {
      "text/plain": [
       "1"
      ]
     },
     "execution_count": 38,
     "metadata": {},
     "output_type": "execute_result"
    }
   ],
   "source": [
    "x[0]"
   ]
  },
  {
   "cell_type": "code",
   "execution_count": 39,
   "metadata": {},
   "outputs": [
    {
     "data": {
      "text/plain": [
       "2"
      ]
     },
     "execution_count": 39,
     "metadata": {},
     "output_type": "execute_result"
    }
   ],
   "source": [
    "x[2]"
   ]
  },
  {
   "cell_type": "code",
   "execution_count": 58,
   "metadata": {},
   "outputs": [
    {
     "name": "stdout",
     "output_type": "stream",
     "text": [
      "<class 'list'>\n",
      "<class 'int'>\n"
     ]
    }
   ],
   "source": [
    "print(type(x))  #x는 배열이므로 리스트 형\n",
    "print(type(x[0]))  #x[0]은 1이므로 int 형"
   ]
  },
  {
   "cell_type": "code",
   "execution_count": 41,
   "metadata": {},
   "outputs": [
    {
     "name": "stdout",
     "output_type": "stream",
     "text": [
      "<class 'str'>\n",
      "<class 'int'>\n"
     ]
    },
    {
     "data": {
      "text/plain": [
       "int"
      ]
     },
     "execution_count": 41,
     "metadata": {},
     "output_type": "execute_result"
    }
   ],
   "source": [
    "s=['SUN', 1, 'MON', 2]\n",
    "print(type(s[0]))\n",
    "print(type(s[1]))\n",
    "type(s[1]) #print로 출력했을 때(<class ''>)와 그냥 썼을 때(Out[]) 다르게 출력값 표시됨!"
   ]
  },
  {
   "cell_type": "code",
   "execution_count": 42,
   "metadata": {},
   "outputs": [
    {
     "name": "stdout",
     "output_type": "stream",
     "text": [
      "[[1, 2, 3], [4, 5, 6]]\n"
     ]
    }
   ],
   "source": [
    "a=[[1,2,3], [4,5,6]]\n",
    "print(a)"
   ]
  },
  {
   "cell_type": "code",
   "execution_count": 43,
   "metadata": {},
   "outputs": [
    {
     "name": "stdout",
     "output_type": "stream",
     "text": [
      "2\n"
     ]
    }
   ],
   "source": [
    "a=[[1,2,3], [4,5,6]]\n",
    "print(a[0][1]) #1행 2열"
   ]
  },
  {
   "cell_type": "code",
   "execution_count": 44,
   "metadata": {},
   "outputs": [
    {
     "name": "stdout",
     "output_type": "stream",
     "text": [
      "[1, 1, 2, 100, 5]\n"
     ]
    }
   ],
   "source": [
    "x=[1,1,2,3,5]\n",
    "x[3]=100\n",
    "print(x)"
   ]
  },
  {
   "cell_type": "code",
   "execution_count": 120,
   "metadata": {
    "scrolled": true
   },
   "outputs": [
    {
     "data": {
      "text/plain": [
       "5"
      ]
     },
     "execution_count": 120,
     "metadata": {},
     "output_type": "execute_result"
    }
   ],
   "source": [
    "x=[1,1,2,3,5]\n",
    "len(x)  #len : list의 길이(배열의 길이)"
   ]
  },
  {
   "cell_type": "markdown",
   "metadata": {},
   "source": [
    "### range형"
   ]
  },
  {
   "cell_type": "code",
   "execution_count": 53,
   "metadata": {},
   "outputs": [
    {
     "name": "stdout",
     "output_type": "stream",
     "text": [
      "5 6 7 8 9\n"
     ]
    }
   ],
   "source": [
    "y=range(5,10)  #range : 5~9까지의 연속된 정수 데이터(수열! 배열과 유사. 하지만 다름)\n",
    "print(y[0],y[1],y[2],y[3],y[4]) #range도 list처럼 요소에 접근은 가능(수정은x)"
   ]
  },
  {
   "cell_type": "code",
   "execution_count": 54,
   "metadata": {},
   "outputs": [
    {
     "name": "stdout",
     "output_type": "stream",
     "text": [
      "range(5, 10)\n"
     ]
    }
   ],
   "source": [
    "print(y)  #list형과 달리 [5, 6, 7, 8, 9]로 출력 안됨! 메모리를 절약한 형태인 range형 / list형과 다르게 range형은 배열 내 요소갑 수정 불가."
   ]
  },
  {
   "cell_type": "markdown",
   "metadata": {},
   "source": [
    "### list 함수 : range(수열)을 list형(배열)으로"
   ]
  },
  {
   "cell_type": "code",
   "execution_count": 55,
   "metadata": {},
   "outputs": [
    {
     "name": "stdout",
     "output_type": "stream",
     "text": [
      "[5, 6, 7, 8, 9]\n"
     ]
    }
   ],
   "source": [
    "z=list(range(5,10))  #***list함수*** 써서 range형을 요소를 수정할 수 있는 list형으로 변환할 수 있음!\n",
    "print(z)"
   ]
  },
  {
   "cell_type": "code",
   "execution_count": 56,
   "metadata": {},
   "outputs": [
    {
     "data": {
      "text/plain": [
       "[0, 1, 2, 3, 4, 5, 6, 7, 8, 9]"
      ]
     },
     "execution_count": 56,
     "metadata": {},
     "output_type": "execute_result"
    }
   ],
   "source": [
    "list(range(10))  #시작숫자 생략가능. 이럴 경우 0부터 10-1=9까지의 수열."
   ]
  },
  {
   "cell_type": "markdown",
   "metadata": {},
   "source": [
    "# 2.6 tuple (배열) "
   ]
  },
  {
   "cell_type": "code",
   "execution_count": 64,
   "metadata": {},
   "outputs": [
    {
     "name": "stdout",
     "output_type": "stream",
     "text": [
      "(1, 2, 3)\n"
     ]
    }
   ],
   "source": [
    "a = (1,2,3) #tuple형은 list와 달리 요소 값 수정 불가!\n",
    "print(a)"
   ]
  },
  {
   "cell_type": "code",
   "execution_count": 63,
   "metadata": {},
   "outputs": [
    {
     "data": {
      "text/plain": [
       "2"
      ]
     },
     "execution_count": 63,
     "metadata": {},
     "output_type": "execute_result"
    }
   ],
   "source": [
    "a[1]"
   ]
  },
  {
   "cell_type": "code",
   "execution_count": 69,
   "metadata": {},
   "outputs": [
    {
     "name": "stdout",
     "output_type": "stream",
     "text": [
      "<class 'tuple'>\n",
      "3\n"
     ]
    }
   ],
   "source": [
    "print(type(a))  #[1,2,3]은 list형, (1,2,3)은 tuple형\n",
    "print(len(a))"
   ]
  },
  {
   "cell_type": "code",
   "execution_count": 70,
   "metadata": {},
   "outputs": [
    {
     "data": {
      "text/plain": [
       "int"
      ]
     },
     "execution_count": 70,
     "metadata": {},
     "output_type": "execute_result"
    }
   ],
   "source": [
    "a=(1)  #하나만 있을 경우는 tuple이 아님!\n",
    "type(a) "
   ]
  },
  {
   "cell_type": "code",
   "execution_count": 71,
   "metadata": {},
   "outputs": [
    {
     "data": {
      "text/plain": [
       "tuple"
      ]
     },
     "execution_count": 71,
     "metadata": {},
     "output_type": "execute_result"
    }
   ],
   "source": [
    "a=(1,)  #길이가 1인(값이 하나인) tuple을 만들고 싶을 때에는 (1, )처럼 ,를 붙여주기\n",
    "type(a)"
   ]
  },
  {
   "cell_type": "markdown",
   "metadata": {},
   "source": [
    "# 2.7 if문"
   ]
  },
  {
   "cell_type": "code",
   "execution_count": 73,
   "metadata": {},
   "outputs": [
    {
     "name": "stdout",
     "output_type": "stream",
     "text": [
      "x is \n",
      "larger than 10.\n"
     ]
    }
   ],
   "source": [
    "x=11\n",
    "if x>10:            # x>10은 True 혹은 False값을 가지는 bool형 데이터\n",
    "    print('x is ')  #if문에서는 들여쓰기가 중요!!!\n",
    "    print('larger than 10.')\n",
    "else:\n",
    "    print('x is smaller than 11')"
   ]
  },
  {
   "cell_type": "code",
   "execution_count": 74,
   "metadata": {},
   "outputs": [
    {
     "data": {
      "text/plain": [
       "True"
      ]
     },
     "execution_count": 74,
     "metadata": {},
     "output_type": "execute_result"
    }
   ],
   "source": [
    "x>10   # x>10은 True 혹은 False값을 가지는 bool형 데이터 (위에서 x=11이라고 했기 때문에 참,거짓 판별 가능)"
   ]
  },
  {
   "cell_type": "code",
   "execution_count": 75,
   "metadata": {},
   "outputs": [
    {
     "data": {
      "text/plain": [
       "bool"
      ]
     },
     "execution_count": 75,
     "metadata": {},
     "output_type": "execute_result"
    }
   ],
   "source": [
    "type(x>10)"
   ]
  },
  {
   "cell_type": "code",
   "execution_count": 79,
   "metadata": {},
   "outputs": [
    {
     "name": "stdout",
     "output_type": "stream",
     "text": [
      "x is between 10 and 20\n"
     ]
    }
   ],
   "source": [
    "x=15\n",
    "if 10<=x and x<=20:\n",
    "    print('x is between 10 and 20')  #비교연산자 <=의 연산 결과값 : bool형"
   ]
  },
  {
   "cell_type": "markdown",
   "metadata": {},
   "source": [
    "# 2.8 for문"
   ]
  },
  {
   "cell_type": "code",
   "execution_count": 80,
   "metadata": {},
   "outputs": [
    {
     "name": "stdout",
     "output_type": "stream",
     "text": [
      "1\n",
      "2\n",
      "3\n"
     ]
    }
   ],
   "source": [
    "for i in [1,2,3]:  #[1,2,3] (list)대신에 range(), tuple형(ex.(1,2,3)) 쓸 수 있음.\n",
    "    print(i)"
   ]
  },
  {
   "cell_type": "code",
   "execution_count": 81,
   "metadata": {},
   "outputs": [
    {
     "name": "stdout",
     "output_type": "stream",
     "text": [
      "[4, 8, 12, 16, 20]\n"
     ]
    }
   ],
   "source": [
    "num = [2,4,6,8,10]\n",
    "for i in range(len(num)):  #len(num) = 5이므로, for i in range(5)가 되어서 for i in range(0,5)와 같아짐. tuple은 for i in (0,1,2,3,4)!\n",
    "    num[i]=num[i]*2        #반복할 때마다 list의 요소(range(len(num)) = (0,1,2,3,4))가 차례대로 변수(i)에 들어감!!\n",
    "print(num)"
   ]
  },
  {
   "cell_type": "markdown",
   "metadata": {},
   "source": [
    "### enumerate : i는 num의 인덱스값, n은 num[i]의 값 "
   ]
  },
  {
   "cell_type": "code",
   "execution_count": 84,
   "metadata": {},
   "outputs": [
    {
     "name": "stdout",
     "output_type": "stream",
     "text": [
      "[4, 8, 12, 16, 20]\n"
     ]
    }
   ],
   "source": [
    "num = [2,4,6,8,10]\n",
    "for i, n in enumerate(num):\n",
    "    num[i] = n*2  #i에는 0,1,2,3,4 / n에는 2,4,6,8,10\n",
    "print(num)"
   ]
  },
  {
   "cell_type": "markdown",
   "metadata": {},
   "source": [
    "# 2.9 벡터"
   ]
  },
  {
   "cell_type": "code",
   "execution_count": 85,
   "metadata": {},
   "outputs": [
    {
     "data": {
      "text/plain": [
       "[1, 2, 3, 4]"
      ]
     },
     "execution_count": 85,
     "metadata": {},
     "output_type": "execute_result"
    }
   ],
   "source": [
    "[1,2] + [3,4]  # ***list형을 서로 더하면 문자열처럼 이어서 더해짐. 그냥 []로는 벡터로 사용할 수 X. => numpy.array로 써야함."
   ]
  },
  {
   "cell_type": "markdown",
   "metadata": {},
   "source": [
    "# *import numpy as np*"
   ]
  },
  {
   "cell_type": "code",
   "execution_count": 4,
   "metadata": {},
   "outputs": [],
   "source": [
    "import numpy as np  #파이썬으로 벡터나 행렬 나타낼 떄 '넘파이'라는 라이브러리 import. numpy를 np라는 별명으로 사용하겠다! "
   ]
  },
  {
   "cell_type": "markdown",
   "metadata": {},
   "source": [
    "### np.array([,])  & np.arange(,)는 ndarray형!"
   ]
  },
  {
   "cell_type": "code",
   "execution_count": 87,
   "metadata": {},
   "outputs": [
    {
     "data": {
      "text/plain": [
       "array([1, 2, 3])"
      ]
     },
     "execution_count": 87,
     "metadata": {},
     "output_type": "execute_result"
    }
   ],
   "source": [
    "x=np.array([1,2,3])  #벡터 만들때에는 np.array([])으로!\n",
    "x"
   ]
  },
  {
   "cell_type": "code",
   "execution_count": 90,
   "metadata": {},
   "outputs": [
    {
     "name": "stdout",
     "output_type": "stream",
     "text": [
      "[1 2 3]\n"
     ]
    }
   ],
   "source": [
    "print(x)  # x => array([1,2,3]) 출력 / print(x) => [1 2 3] 출력됨..(array 유무 & , 유무)... 따라서 *** print(x)하면 ,없이 깔끔하게 출력!"
   ]
  },
  {
   "cell_type": "code",
   "execution_count": 91,
   "metadata": {},
   "outputs": [
    {
     "name": "stdout",
     "output_type": "stream",
     "text": [
      "[1, 2, 3]\n"
     ]
    }
   ],
   "source": [
    "x_1=[1,2,3]\n",
    "print(x_1)  #np.array([1,2,3])로 정의한 x와 달리 list형인 x_1=[1,2,3]은 print(x_1)해도 ,가 남음"
   ]
  },
  {
   "cell_type": "code",
   "execution_count": 92,
   "metadata": {},
   "outputs": [
    {
     "name": "stdout",
     "output_type": "stream",
     "text": [
      "[5 7 9]\n"
     ]
    }
   ],
   "source": [
    "y=np.array([4,5,6])\n",
    "print(x+y)  #덧셈이 이루어졌기 때문에 x와 y는 벡터로 취급받음!!"
   ]
  },
  {
   "cell_type": "code",
   "execution_count": 93,
   "metadata": {},
   "outputs": [
    {
     "data": {
      "text/plain": [
       "numpy.ndarray"
      ]
     },
     "execution_count": 93,
     "metadata": {},
     "output_type": "execute_result"
    }
   ],
   "source": [
    "type(x)  #numpy.ndarray형! 생략해서 ndarray형. (벡터)"
   ]
  },
  {
   "cell_type": "code",
   "execution_count": 94,
   "metadata": {},
   "outputs": [
    {
     "data": {
      "text/plain": [
       "1"
      ]
     },
     "execution_count": 94,
     "metadata": {},
     "output_type": "execute_result"
    }
   ],
   "source": [
    "x[0]  #list형과 마찬가지로 []로 벡터의 한 요소 참조 가능"
   ]
  },
  {
   "cell_type": "code",
   "execution_count": 95,
   "metadata": {},
   "outputs": [
    {
     "name": "stdout",
     "output_type": "stream",
     "text": [
      "[100   2   3]\n"
     ]
    }
   ],
   "source": [
    "x[0]=100\n",
    "print(x)"
   ]
  },
  {
   "cell_type": "markdown",
   "metadata": {},
   "source": [
    "### ※헷갈림 주의(배열, 벡터, np.array, np.arange, range)"
   ]
  },
  {
   "cell_type": "code",
   "execution_count": 98,
   "metadata": {},
   "outputs": [
    {
     "name": "stdout",
     "output_type": "stream",
     "text": [
      "[0 1 2 3 4 5 6 7 8 9]\n",
      "range(0, 10)\n",
      "0 1 2 3 4 5 6 7 8 9\n"
     ]
    }
   ],
   "source": [
    "print(np.arange(10))  # list형의 range(n)처럼 np.arange(n)하면 0부터 n-1까지의 배열 만들 수 있음. => \"벡터\"꼴인 [0 1 2 ...]로 출력됨\n",
    "print(range(10))\n",
    "r=range(10)\n",
    "print(r[0], r[1], r[2], r[3], r[4], r[5], r[6], r[7], r[8], r[9])"
   ]
  },
  {
   "cell_type": "code",
   "execution_count": 99,
   "metadata": {},
   "outputs": [
    {
     "name": "stdout",
     "output_type": "stream",
     "text": [
      "[5 6 7 8 9]\n"
     ]
    }
   ],
   "source": [
    "print(np.arange(5,10))  #ndarray형은 list형과 마찬가지로 for문에서 대신 쓸 수 있지만, \"벡터연산\"이 가능하다는 점에서 차이ㅇ"
   ]
  },
  {
   "cell_type": "markdown",
   "metadata": {},
   "source": [
    "### list형과의 차이점 : ndarray형은 벡터 연산(덧셈 등)이 가능."
   ]
  },
  {
   "cell_type": "code",
   "execution_count": 101,
   "metadata": {},
   "outputs": [
    {
     "name": "stdout",
     "output_type": "stream",
     "text": [
      "1\n",
      "[5 6 7]\n",
      "2\n",
      "[6 7 8]\n",
      "3\n",
      "[7 8 9]\n"
     ]
    }
   ],
   "source": [
    "j=np.array([4,5,6])\n",
    "for i in np.arange(1,4):  #1~3이 i에 차례로 대입\n",
    "    print(i)\n",
    "    print(i+j)  #print(j)하면 [4 5 6]이고 i씩 벡터j의 각 요소에 더해주는 것."
   ]
  },
  {
   "cell_type": "markdown",
   "metadata": {},
   "source": [
    "### ndarray형의 주의점 : b=a.copy() 로 복사해야함. 아니면 a가 바뀜.(주소값을 전달하는 것이기 때문)"
   ]
  },
  {
   "cell_type": "code",
   "execution_count": 106,
   "metadata": {},
   "outputs": [
    {
     "name": "stdout",
     "output_type": "stream",
     "text": [
      "a= [1 1]\n",
      "b= [1 1]\n",
      "b= [100   1]\n",
      "a= [100   1]\n"
     ]
    }
   ],
   "source": [
    "a=np.array([1,1])\n",
    "b=a  #a의 주소값 자체가 b에게 전달.\n",
    "print('a= '+str(a))\n",
    "print('b= '+str(b))\n",
    "b[0]=100\n",
    "print('b= '+str(b))\n",
    "print('a= '+str(a))"
   ]
  },
  {
   "cell_type": "code",
   "execution_count": 108,
   "metadata": {},
   "outputs": [
    {
     "name": "stdout",
     "output_type": "stream",
     "text": [
      "a= [1 1]\n",
      "b= [1 1]\n",
      "b= [100   1]\n",
      "a= [1 1]\n"
     ]
    }
   ],
   "source": [
    "a=np.array([1,1])\n",
    "b=a.copy() #b는 a와 관계없이 독립된 변수로 취급.\n",
    "print('a= '+str(a))\n",
    "print('b= '+str(b))\n",
    "b[0]=100\n",
    "print('b= '+str(b))\n",
    "print('a= '+str(a))"
   ]
  },
  {
   "cell_type": "markdown",
   "metadata": {},
   "source": [
    "# 2.10 행렬(2차원 배열)"
   ]
  },
  {
   "cell_type": "code",
   "execution_count": 110,
   "metadata": {},
   "outputs": [
    {
     "name": "stdout",
     "output_type": "stream",
     "text": [
      "[[1 2 3]\n",
      " [4 5 6]]\n"
     ]
    }
   ],
   "source": [
    "x=np.array([[1,2,3], [4,5,6]])  #np.array()안에 배열들어가야하니까 [[1,2,3], [4,5,6]] => 밖에 큰 대괄호 있어야함!(2차원 배열)\n",
    "print(x)"
   ]
  },
  {
   "cell_type": "markdown",
   "metadata": {},
   "source": [
    "### (ndarray변수) x.shape : 행렬의 크기(꼴) => tuple형태로"
   ]
  },
  {
   "cell_type": "code",
   "execution_count": 111,
   "metadata": {},
   "outputs": [
    {
     "data": {
      "text/plain": [
       "(2, 3)"
      ]
     },
     "execution_count": 111,
     "metadata": {},
     "output_type": "execute_result"
    }
   ],
   "source": [
    "x=np.array([[1,2,3], [4,5,6]])\n",
    "x.shape  #행렬의 크기 => (n행, m열)의 형태로(tuple) , 2x3행렬"
   ]
  },
  {
   "cell_type": "markdown",
   "metadata": {},
   "source": [
    "### w,h=x.shape : w엔 행의 크기, h엔 열의 크기가 들어감(정수)"
   ]
  },
  {
   "cell_type": "code",
   "execution_count": 112,
   "metadata": {},
   "outputs": [
    {
     "name": "stdout",
     "output_type": "stream",
     "text": [
      "2\n",
      "3\n"
     ]
    }
   ],
   "source": [
    "w,h=x.shape\n",
    "print(w)\n",
    "print(h)"
   ]
  },
  {
   "cell_type": "code",
   "execution_count": 114,
   "metadata": {},
   "outputs": [
    {
     "data": {
      "text/plain": [
       "tuple"
      ]
     },
     "execution_count": 114,
     "metadata": {},
     "output_type": "execute_result"
    }
   ],
   "source": [
    "type(x.shape)  #x.shape가 (2,3)으로 tuple형이기 때문"
   ]
  },
  {
   "cell_type": "code",
   "execution_count": 115,
   "metadata": {},
   "outputs": [
    {
     "data": {
      "text/plain": [
       "6"
      ]
     },
     "execution_count": 115,
     "metadata": {},
     "output_type": "execute_result"
    }
   ],
   "source": [
    "x=np.array([[1,2,3], [4,5,6]])\n",
    "x[1,2]  #2행 3열의 값 출력!!!!  ※배열(행렬)의 인덱스가 0부터 시작한다는 것을 잊지말기!!!"
   ]
  },
  {
   "cell_type": "code",
   "execution_count": 116,
   "metadata": {},
   "outputs": [
    {
     "name": "stdout",
     "output_type": "stream",
     "text": [
      "2\n",
      "6\n"
     ]
    }
   ],
   "source": [
    "x=np.array([[1,2,3], [4,5,6]])\n",
    "print(x[0,1])  #1행 2열\n",
    "print(x[1,2])  #2행 3열"
   ]
  },
  {
   "cell_type": "code",
   "execution_count": 117,
   "metadata": {},
   "outputs": [
    {
     "name": "stdout",
     "output_type": "stream",
     "text": [
      "[[  1   2   3]\n",
      " [  4   5 100]]\n"
     ]
    }
   ],
   "source": [
    "x=np.array([[1,2,3], [4,5,6]])\n",
    "x[1,2]=100  #2행 3열의 값을 100으로 바꾸기\n",
    "print(x)"
   ]
  },
  {
   "cell_type": "markdown",
   "metadata": {},
   "source": [
    "### np.zeros(n) : 모든 요소가 0이고 길이가 n인 벡터 / np.zeros((n,m)) : (n,m)은 nxm행렬. tuple형태"
   ]
  },
  {
   "cell_type": "code",
   "execution_count": 118,
   "metadata": {},
   "outputs": [
    {
     "name": "stdout",
     "output_type": "stream",
     "text": [
      "[0. 0. 0. 0. 0. 0. 0. 0. 0. 0.]\n"
     ]
    }
   ],
   "source": [
    "print(np.zeros(10))  #모든 요소가 0인 행렬(벡터)"
   ]
  },
  {
   "cell_type": "code",
   "execution_count": 119,
   "metadata": {},
   "outputs": [
    {
     "data": {
      "text/plain": [
       "array([0., 0., 0., 0., 0., 0., 0., 0., 0., 0.])"
      ]
     },
     "execution_count": 119,
     "metadata": {},
     "output_type": "execute_result"
    }
   ],
   "source": [
    "np.zeros(10)"
   ]
  },
  {
   "cell_type": "code",
   "execution_count": 121,
   "metadata": {},
   "outputs": [
    {
     "name": "stdout",
     "output_type": "stream",
     "text": [
      "[[0. 0. 0. 0. 0. 0. 0. 0. 0. 0.]\n",
      " [0. 0. 0. 0. 0. 0. 0. 0. 0. 0.]]\n"
     ]
    }
   ],
   "source": [
    "print(np.zeros((2,10)))  #2x10행렬, "
   ]
  },
  {
   "cell_type": "code",
   "execution_count": 122,
   "metadata": {},
   "outputs": [
    {
     "name": "stdout",
     "output_type": "stream",
     "text": [
      "[[1. 1. 1. 1. 1. 1. 1. 1. 1. 1.]\n",
      " [1. 1. 1. 1. 1. 1. 1. 1. 1. 1.]]\n"
     ]
    }
   ],
   "source": [
    "print(np.ones((2,10)))"
   ]
  },
  {
   "cell_type": "markdown",
   "metadata": {},
   "source": [
    "### np.random.rand(size) : 난수행렬(랜덤) => 여기서 size는 tuple이 아님!"
   ]
  },
  {
   "cell_type": "code",
   "execution_count": 123,
   "metadata": {},
   "outputs": [
    {
     "data": {
      "text/plain": [
       "array([[0.91256127, 0.64408775, 0.08537641],\n",
       "       [0.0080635 , 0.0141277 , 0.79733377]])"
      ]
     },
     "execution_count": 123,
     "metadata": {},
     "output_type": "execute_result"
    }
   ],
   "source": [
    "np.random.rand(2,3) # ※tuple의 형태가 아님!! 따라서 np.random.rand((2,3)) 아님!"
   ]
  },
  {
   "cell_type": "code",
   "execution_count": 124,
   "metadata": {},
   "outputs": [
    {
     "data": {
      "text/plain": [
       "array([0.52231227, 0.96226326, 0.09112519])"
      ]
     },
     "execution_count": 124,
     "metadata": {},
     "output_type": "execute_result"
    }
   ],
   "source": [
    "np.random.rand(3)"
   ]
  },
  {
   "cell_type": "code",
   "execution_count": 125,
   "metadata": {},
   "outputs": [
    {
     "data": {
      "text/plain": [
       "array([-0.20973693,  0.50010224,  0.12263543])"
      ]
     },
     "execution_count": 125,
     "metadata": {},
     "output_type": "execute_result"
    }
   ],
   "source": [
    "np.random.randn(3)  #평균0분산1의 가우스 분포로 난수 생성"
   ]
  },
  {
   "cell_type": "code",
   "execution_count": 126,
   "metadata": {},
   "outputs": [
    {
     "data": {
      "text/plain": [
       "array([11, 26, 34])"
      ]
     },
     "execution_count": 126,
     "metadata": {},
     "output_type": "execute_result"
    }
   ],
   "source": [
    "np.random.randint(1, 100, 3)  #np.random.randint(low, high, size) : low에서 high까지의 임의의 정숫값으로 이뤄진 size크기의 행렬"
   ]
  },
  {
   "cell_type": "code",
   "execution_count": 127,
   "metadata": {},
   "outputs": [
    {
     "name": "stdout",
     "output_type": "stream",
     "text": [
      "[0 1 2 3 4 5 6 7 8 9]\n"
     ]
    }
   ],
   "source": [
    "a=np.arange(10)  #0에서 9까지의 배열 a(벡터!)\n",
    "print(a)  #배열과 달리 ndarray형은 print(x)했을때 ,없이 출력 가능."
   ]
  },
  {
   "cell_type": "markdown",
   "metadata": {},
   "source": [
    "### a.reshape(n,m) : 행렬의 크기 변경"
   ]
  },
  {
   "cell_type": "code",
   "execution_count": 130,
   "metadata": {},
   "outputs": [
    {
     "data": {
      "text/plain": [
       "array([[0, 1, 2, 3, 4],\n",
       "       [5, 6, 7, 8, 9]])"
      ]
     },
     "execution_count": 130,
     "metadata": {},
     "output_type": "execute_result"
    }
   ],
   "source": [
    "a.reshape(2,5)  #2x5행렬로 크기 변경 (이전 a : 1x10꼴. 2x4같은 꼴로는 변경 불가)"
   ]
  },
  {
   "cell_type": "markdown",
   "metadata": {},
   "source": [
    "# 2.11 행렬(ndarray)의 사칙 연산"
   ]
  },
  {
   "cell_type": "markdown",
   "metadata": {},
   "source": [
    "### 덧셈"
   ]
  },
  {
   "cell_type": "code",
   "execution_count": 132,
   "metadata": {},
   "outputs": [
    {
     "name": "stdout",
     "output_type": "stream",
     "text": [
      "[[ 5  5  5]\n",
      " [10 10 10]]\n"
     ]
    }
   ],
   "source": [
    "x=np.array([[4,4,4], [8,8,8]])\n",
    "y=np.array([[1,1,1], [2,2,2]])\n",
    "print(x+y)  #ndarray형은 벡터 연산 가능(사칙 연산)"
   ]
  },
  {
   "cell_type": "markdown",
   "metadata": {},
   "source": [
    "### 스칼라x행렬"
   ]
  },
  {
   "cell_type": "code",
   "execution_count": 133,
   "metadata": {},
   "outputs": [
    {
     "name": "stdout",
     "output_type": "stream",
     "text": [
      "[[40 40 40]\n",
      " [80 80 80]]\n"
     ]
    }
   ],
   "source": [
    "x=np.array([[4,4,4], [8,8,8]])\n",
    "print(10*x)"
   ]
  },
  {
   "cell_type": "markdown",
   "metadata": {},
   "source": [
    "### 여러 산술 함수 : 지수, 제곱근, 로그, 반올림 함수 등"
   ]
  },
  {
   "cell_type": "code",
   "execution_count": 136,
   "metadata": {},
   "outputs": [
    {
     "name": "stdout",
     "output_type": "stream",
     "text": [
      "[[  54.59815003   54.59815003   54.59815003]\n",
      " [2980.95798704 2980.95798704 2980.95798704]]\n"
     ]
    }
   ],
   "source": [
    "x=np.array([[4,4,4], [8,8,8]])\n",
    "print(np.exp(x))  #지수함수(exponential)"
   ]
  },
  {
   "cell_type": "markdown",
   "metadata": {},
   "source": [
    "### 행렬 곱 : v.dot(w)"
   ]
  },
  {
   "cell_type": "code",
   "execution_count": 137,
   "metadata": {},
   "outputs": [
    {
     "name": "stdout",
     "output_type": "stream",
     "text": [
      "[[14 14]\n",
      " [32 32]]\n"
     ]
    }
   ],
   "source": [
    "v=np.array([[1,2,3], [4,5,6]])  #2x3행렬\n",
    "w=np.array([[1,1], [2,2], [3,3]])  #3x2행렬\n",
    "print(v.dot(w))  #곱 결과 : 2x2행렬"
   ]
  },
  {
   "cell_type": "markdown",
   "metadata": {},
   "source": [
    "# 2.12 슬라이싱"
   ]
  },
  {
   "cell_type": "code",
   "execution_count": 140,
   "metadata": {},
   "outputs": [
    {
     "name": "stdout",
     "output_type": "stream",
     "text": [
      "[0 1 2 3 4 5 6 7 8 9]\n",
      "[0 1 2 3 4]\n"
     ]
    }
   ],
   "source": [
    "x=np.arange(10)  #0~9까지의 배열\n",
    "print(x)\n",
    "print(x[:5])  #슬라이스는 x[:n]으로 표기 => 처음인 0부터 n-1까지의 요소 나타냄"
   ]
  },
  {
   "cell_type": "code",
   "execution_count": 141,
   "metadata": {},
   "outputs": [
    {
     "name": "stdout",
     "output_type": "stream",
     "text": [
      "[0 1 2 3 4 5 6 7 8 9]\n",
      "[5 6 7 8 9]\n"
     ]
    }
   ],
   "source": [
    "x=np.arange(10) \n",
    "print(x)\n",
    "print(x[5:])  #5부터 마지막까지의 요소 나타냄"
   ]
  },
  {
   "cell_type": "code",
   "execution_count": 142,
   "metadata": {},
   "outputs": [
    {
     "name": "stdout",
     "output_type": "stream",
     "text": [
      "[3 4 5 6 7]\n"
     ]
    }
   ],
   "source": [
    "print(x[3:8])  #3부터 8-1=7까지"
   ]
  },
  {
   "cell_type": "code",
   "execution_count": 143,
   "metadata": {},
   "outputs": [
    {
     "name": "stdout",
     "output_type": "stream",
     "text": [
      "[3 5 7]\n"
     ]
    }
   ],
   "source": [
    "print(x[3:8:2])  #3부터 8-1=7까지 2간격으로 참조 => 3 5 7"
   ]
  },
  {
   "cell_type": "code",
   "execution_count": 144,
   "metadata": {},
   "outputs": [
    {
     "name": "stdout",
     "output_type": "stream",
     "text": [
      "[9 8 7 6 5 4 3 2 1 0]\n"
     ]
    }
   ],
   "source": [
    "print(x[::-1])  #배열 순서 반대로!"
   ]
  },
  {
   "cell_type": "markdown",
   "metadata": {},
   "source": [
    "### ※헷갈리는 슬라이싱 코드!! 복습!! : print(y[:2, 1:2])"
   ]
  },
  {
   "cell_type": "code",
   "execution_count": 147,
   "metadata": {},
   "outputs": [
    {
     "name": "stdout",
     "output_type": "stream",
     "text": [
      "[[1 2 3]\n",
      " [4 5 6]\n",
      " [7 8 9]]\n",
      "[[2]\n",
      " [5]]\n"
     ]
    }
   ],
   "source": [
    "y=np.array([[1,2,3], [4,5,6], [7,8,9]])\n",
    "print(y)\n",
    "print(y[:2, 1:2])  # *** y의 행은 0~1행까지, 열은 1~1 즉 1열만 출력! => 따라서 0행1열과 1행1열의 값인 [2]\\n[5] 이렇게만 출력된 것!! ***"
   ]
  },
  {
   "cell_type": "markdown",
   "metadata": {},
   "source": [
    "# 2.13 조건을 만족하는 데이터의 수정"
   ]
  },
  {
   "cell_type": "code",
   "execution_count": 5,
   "metadata": {},
   "outputs": [
    {
     "data": {
      "text/plain": [
       "array([False, False, False, False,  True,  True,  True])"
      ]
     },
     "execution_count": 5,
     "metadata": {},
     "output_type": "execute_result"
    }
   ],
   "source": [
    "x=np.array([1,1,2,3,5,8,13])\n",
    "x>3  #배열의 값들을 x>3에 넣어서 비교 후, True 혹은 False로 바뀐 배열로 반환됨"
   ]
  },
  {
   "cell_type": "code",
   "execution_count": 6,
   "metadata": {},
   "outputs": [
    {
     "name": "stdout",
     "output_type": "stream",
     "text": [
      "[False False False False  True  True  True]\n"
     ]
    }
   ],
   "source": [
    "x=np.array([1,1,2,3,5,8,13])\n",
    "print(x>3)  #array()와 ,가 제거됨 (by. print())"
   ]
  },
  {
   "cell_type": "markdown",
   "metadata": {},
   "source": [
    "### x[x>3] : x에 값 하나하나 넣고 True에 해당하는 값들만 출력됨!! (※헷갈리는 코드※)"
   ]
  },
  {
   "cell_type": "code",
   "execution_count": 7,
   "metadata": {
    "scrolled": true
   },
   "outputs": [
    {
     "data": {
      "text/plain": [
       "array([ 5,  8, 13])"
      ]
     },
     "execution_count": 7,
     "metadata": {},
     "output_type": "execute_result"
    }
   ],
   "source": [
    "x[x>3]  "
   ]
  },
  {
   "cell_type": "code",
   "execution_count": 8,
   "metadata": {},
   "outputs": [
    {
     "name": "stdout",
     "output_type": "stream",
     "text": [
      "[  1   1   2   3 999 999 999]\n"
     ]
    }
   ],
   "source": [
    "x[x>3]=999  #True에 해당하는 값들에(5, 8, 13) 999 대입\n",
    "print(x)"
   ]
  },
  {
   "cell_type": "markdown",
   "metadata": {},
   "source": [
    "# 2.14 Help사용"
   ]
  },
  {
   "cell_type": "code",
   "execution_count": 9,
   "metadata": {
    "scrolled": false
   },
   "outputs": [
    {
     "name": "stdout",
     "output_type": "stream",
     "text": [
      "Help on built-in function randint:\n",
      "\n",
      "randint(...) method of mtrand.RandomState instance\n",
      "    randint(low, high=None, size=None, dtype='l')\n",
      "    \n",
      "    Return random integers from `low` (inclusive) to `high` (exclusive).\n",
      "    \n",
      "    Return random integers from the \"discrete uniform\" distribution of\n",
      "    the specified dtype in the \"half-open\" interval [`low`, `high`). If\n",
      "    `high` is None (the default), then results are from [0, `low`).\n",
      "    \n",
      "    Parameters\n",
      "    ----------\n",
      "    low : int\n",
      "        Lowest (signed) integer to be drawn from the distribution (unless\n",
      "        ``high=None``, in which case this parameter is one above the\n",
      "        *highest* such integer).\n",
      "    high : int, optional\n",
      "        If provided, one above the largest (signed) integer to be drawn\n",
      "        from the distribution (see above for behavior if ``high=None``).\n",
      "    size : int or tuple of ints, optional\n",
      "        Output shape.  If the given shape is, e.g., ``(m, n, k)``, then\n",
      "        ``m * n * k`` samples are drawn.  Default is None, in which case a\n",
      "        single value is returned.\n",
      "    dtype : dtype, optional\n",
      "        Desired dtype of the result. All dtypes are determined by their\n",
      "        name, i.e., 'int64', 'int', etc, so byteorder is not available\n",
      "        and a specific precision may have different C types depending\n",
      "        on the platform. The default value is 'np.int'.\n",
      "    \n",
      "        .. versionadded:: 1.11.0\n",
      "    \n",
      "    Returns\n",
      "    -------\n",
      "    out : int or ndarray of ints\n",
      "        `size`-shaped array of random integers from the appropriate\n",
      "        distribution, or a single such random int if `size` not provided.\n",
      "    \n",
      "    See Also\n",
      "    --------\n",
      "    random.random_integers : similar to `randint`, only for the closed\n",
      "        interval [`low`, `high`], and 1 is the lowest value if `high` is\n",
      "        omitted. In particular, this other one is the one to use to generate\n",
      "        uniformly distributed discrete non-integers.\n",
      "    \n",
      "    Examples\n",
      "    --------\n",
      "    >>> np.random.randint(2, size=10)\n",
      "    array([1, 0, 0, 0, 1, 1, 0, 0, 1, 0])\n",
      "    >>> np.random.randint(1, size=10)\n",
      "    array([0, 0, 0, 0, 0, 0, 0, 0, 0, 0])\n",
      "    \n",
      "    Generate a 2 x 4 array of ints between 0 and 4, inclusive:\n",
      "    \n",
      "    >>> np.random.randint(5, size=(2, 4))\n",
      "    array([[4, 0, 2, 1],\n",
      "           [3, 2, 2, 0]])\n",
      "\n"
     ]
    }
   ],
   "source": [
    "help(np.random.randint) #함수의 사용법(설명)을 확인하고 싶을 때 -> help(함수이름)"
   ]
  },
  {
   "cell_type": "markdown",
   "metadata": {},
   "source": [
    "# 2.15 함수"
   ]
  },
  {
   "cell_type": "code",
   "execution_count": 10,
   "metadata": {},
   "outputs": [
    {
     "name": "stdout",
     "output_type": "stream",
     "text": [
      "Hi!\n"
     ]
    }
   ],
   "source": [
    "def my_func1():  #함수 정의\n",
    "    print('Hi!')\n",
    "    \n",
    "my_func1()  #함수 실행"
   ]
  },
  {
   "cell_type": "code",
   "execution_count": 12,
   "metadata": {},
   "outputs": [
    {
     "data": {
      "text/plain": [
       "3"
      ]
     },
     "execution_count": 12,
     "metadata": {},
     "output_type": "execute_result"
    }
   ],
   "source": [
    "def my_func2(a,b):\n",
    "    c=a+b\n",
    "    return c\n",
    "\n",
    "my_func2(1,2)"
   ]
  },
  {
   "cell_type": "code",
   "execution_count": 13,
   "metadata": {},
   "outputs": [],
   "source": [
    "def my_func3(D):  #'배열'을 D라는 인자로 받아옴 (ndarray형)\n",
    "    m=np.mean(D)  #평균값 - 넘파이(np)에서 정의된 함수\n",
    "    s=np.std(D)  #표준 편차 - 넘파이(np)에서 정의된 함수\n",
    "    return m,s  #여러 개의 반환값 return가능!"
   ]
  },
  {
   "cell_type": "markdown",
   "metadata": {},
   "source": [
    "### ※여러개의 return값 받아오는 방법 : ex) data_mean, data_std=my_func3(data)  => data라는 배열을 func3에서 D로 받음"
   ]
  },
  {
   "cell_type": "code",
   "execution_count": 29,
   "metadata": {},
   "outputs": [
    {
     "name": "stdout",
     "output_type": "stream",
     "text": [
      "mean:0.11, std:1.01\n"
     ]
    }
   ],
   "source": [
    "data=np.random.randn(100)  #randn() : 평균0 분산1의 가우스 분포로 난수 100개 생성 => 100개 값 갖는 배열 data\n",
    "data_mean, data_std=my_func3(data)  #배열인 'data'를 my_func3으로 보내서 D로 받음 => return값 2개를 각각 data_mean, data_std로 받음@\n",
    "print('mean:{0:3.2f}, std:{1:3.2f}'.format(data_mean, data_std))  #난수이므로 출력할때마다 값 달라짐"
   ]
  },
  {
   "cell_type": "markdown",
   "metadata": {},
   "source": [
    "### 반환값 여러개를 한 변수로도 받을 수 있음 (tuple형태로)"
   ]
  },
  {
   "cell_type": "code",
   "execution_count": 30,
   "metadata": {},
   "outputs": [
    {
     "name": "stdout",
     "output_type": "stream",
     "text": [
      "(0.11367787798561184, 1.0117971548634137)\n",
      "<class 'tuple'>\n",
      "mean:0.11, std:1.01\n"
     ]
    }
   ],
   "source": [
    "output=my_func3(data)  #return값이 여러개여로 output이라는 변수 하나로 받을 수 있음 => 이때, 반환값은 tuple형식 ( , )\n",
    "print(output)\n",
    "print(type(output))\n",
    "print('mean:{0:3.2f}, std:{1:3.2f}'.format(output[0], output[1]))"
   ]
  },
  {
   "cell_type": "markdown",
   "metadata": {},
   "source": [
    "# 2.16 파일 저장"
   ]
  },
  {
   "cell_type": "markdown",
   "metadata": {},
   "source": [
    "### 외부 폴더에 있는 데이터들을 읽어 계산하고 그 결과를 저장하기 - np.save(), np.savez(), np.load()"
   ]
  },
  {
   "cell_type": "code",
   "execution_count": 32,
   "metadata": {},
   "outputs": [
    {
     "name": "stdout",
     "output_type": "stream",
     "text": [
      "[-0.88495084  0.11414419 -0.37230994 -0.32561746  0.60680776]\n",
      "[]\n",
      "[-0.88495084  0.11414419 -0.37230994 -0.32561746  0.60680776]\n"
     ]
    }
   ],
   "source": [
    "#하나의 ndarray형 데이터 저장\n",
    "data=np.random.randn(5)\n",
    "print(data)\n",
    "np.save('datafile.npy', data)  #저장 (저장할 파일명 : datafile, 확장자는 .npy, 저장할 ndarray형 변수명 : data) => 파일형태로 저장됨!\n",
    "data = []                      #데이터 삭제\n",
    "print(data)\n",
    "data=np.load('datafile.npy')   #로드\n",
    "print(data)  # 5line에서 데이터 삭제하고나서 다시 파일에 저장하진 않았으므로, 파일 로드해서 data에 다시 넣으면 원래있던값 출력됨."
   ]
  },
  {
   "cell_type": "code",
   "execution_count": 40,
   "metadata": {
    "scrolled": true
   },
   "outputs": [
    {
     "name": "stdout",
     "output_type": "stream",
     "text": [
      "['data1', 'data2']\n",
      "[1 2 3]\n",
      "[10 20 30]\n",
      "<numpy.lib.npyio.NpzFile object at 0x000001C433D8C7B8>\n"
     ]
    }
   ],
   "source": [
    "#여러개의 ndarray형 데이터 저장\n",
    "data1 = np.array([1,2,3])\n",
    "data2 = np.array([10,20,30])\n",
    "np.savez('datafile2.npz', data1=data1, data2=data2) #여러개의 데이터(변수값) 저장, 확장자는 npz, 변수명=변수명 꼴)\n",
    "data1=[]  #데이터 삭제\n",
    "data2=[]\n",
    "outfile=np.load('datafile2.npz')  #로드 => datafile2라는 폴더에 저장된 모든 데이터들(변수들)이 outfile에 저장됨\n",
    "print(outfile.files)  #저장된 데이터 표시\n",
    "data1=outfile['data1']  #data1 꺼내기 => 모든 변수들이 outfile에 저장되어있으므로, outfile[]으로 (배열처럼) 각각 변수 접근 가능!\n",
    "data2=outfile['data2']  #data2 꺼내기\n",
    "print(data1)\n",
    "print(data2)\n",
    "\n",
    "print(outfile)"
   ]
  },
  {
   "cell_type": "markdown",
   "metadata": {},
   "source": [
    "> np.load()로 저장된 변수들 다 불러와서 outfile에 저장하면, outfile['변수명'] 으로 각각의 변수를 불러올 수 있음(참조 가능)."
   ]
  },
  {
   "cell_type": "markdown",
   "metadata": {},
   "source": [
    "> 이렇게 하고나면 코딩하고 있던 폴더인 3-2>programming>python_code에 2장.ipynb뿐만아니라 datafile.npy랑 datafile2.npz 파일 생겨있음!!"
   ]
  },
  {
   "cell_type": "markdown",
   "metadata": {},
   "source": [
    "> 헷갈리니 여러번 보기..!!ㅠㅠ"
   ]
  }
 ],
 "metadata": {
  "kernelspec": {
   "display_name": "Python 3",
   "language": "python",
   "name": "python3"
  },
  "language_info": {
   "codemirror_mode": {
    "name": "ipython",
    "version": 3
   },
   "file_extension": ".py",
   "mimetype": "text/x-python",
   "name": "python",
   "nbconvert_exporter": "python",
   "pygments_lexer": "ipython3",
   "version": "3.7.3"
  }
 },
 "nbformat": 4,
 "nbformat_minor": 2
}
