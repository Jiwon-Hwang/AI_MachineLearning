{
 "cells": [
  {
   "cell_type": "code",
   "execution_count": 3,
   "metadata": {},
   "outputs": [],
   "source": [
    "import numpy as np\n",
    "import math"
   ]
  },
  {
   "cell_type": "markdown",
   "metadata": {},
   "source": [
    "## #1번"
   ]
  },
  {
   "cell_type": "code",
   "execution_count": 8,
   "metadata": {},
   "outputs": [],
   "source": [
    "# 소프트맥스 함수\n",
    "def softmax(s1, s2, s3, s4):\n",
    "    u = np.exp(s1)+np.exp(s2)+np.exp(s3)+np.exp(s4)\n",
    "    return np.exp(s1)/u, np.exp(s2)/u, np.exp(s3)/u, np.exp(s4)/u\n",
    "    "
   ]
  },
  {
   "cell_type": "code",
   "execution_count": 9,
   "metadata": {},
   "outputs": [
    {
     "name": "stdout",
     "output_type": "stream",
     "text": [
      "(0.13250053264446765, 0.6562794344376716, 0.08890662532881649, 0.12231340758904413)\n"
     ]
    }
   ],
   "source": [
    "o = softmax(0.4, 2.0, 0.001, 0.32)\n",
    "print(o)"
   ]
  },
  {
   "cell_type": "code",
   "execution_count": 12,
   "metadata": {},
   "outputs": [
    {
     "name": "stdout",
     "output_type": "stream",
     "text": [
      "(0.11314284146556014, 0.05083835575299916, 0.8360188027814407)\n"
     ]
    }
   ],
   "source": [
    "def softmax1(s1, s2, s3):\n",
    "    u = np.exp(s1)+np.exp(s2)+np.exp(s3)\n",
    "    return np.exp(s1)/u, np.exp(s2)/u, np.exp(s3)/u\n",
    "\n",
    "print(softmax1(2.0, 1.2, 4.0))"
   ]
  },
  {
   "cell_type": "markdown",
   "metadata": {},
   "source": [
    "## #2번"
   ]
  },
  {
   "cell_type": "code",
   "execution_count": 13,
   "metadata": {},
   "outputs": [
    {
     "data": {
      "text/plain": [
       "0.811803"
      ]
     },
     "execution_count": 13,
     "metadata": {},
     "output_type": "execute_result"
    }
   ],
   "source": [
    "0.5*((0.001-0)**2+(0.9-0)**2+(0.001-0)**2+(0.098-1)**2)"
   ]
  },
  {
   "cell_type": "code",
   "execution_count": 10,
   "metadata": {},
   "outputs": [],
   "source": [
    "#평균제곱 오차(mse)\n",
    "def mse(o,y):\n",
    "    return 0.5*sum((y-o)**2)"
   ]
  },
  {
   "cell_type": "code",
   "execution_count": 63,
   "metadata": {},
   "outputs": [],
   "source": [
    "#교차 엔트로피\n",
    "def cross(o,y):\n",
    "    return (-sum(y*np.log2(o)+(1-y)*np.log2(1-o)))"
   ]
  },
  {
   "cell_type": "code",
   "execution_count": 64,
   "metadata": {},
   "outputs": [],
   "source": [
    "#로그우도 (샘플의 레이블에 해당하는 노드의 출력값 하나만 로그취함)\n",
    "def loglikelihood(o_y):\n",
    "    return -np.log2(o_y)"
   ]
  },
  {
   "cell_type": "code",
   "execution_count": 65,
   "metadata": {
    "scrolled": true
   },
   "outputs": [],
   "source": [
    "o=np.array([0.001, 0.9, 0.001, 0.098])\n",
    "y=np.array([0, 0, 0, 1])"
   ]
  },
  {
   "cell_type": "code",
   "execution_count": 66,
   "metadata": {},
   "outputs": [
    {
     "name": "stdout",
     "output_type": "stream",
     "text": [
      "0.811803\n",
      "6.675889369173579\n",
      "3.3510744405468786\n"
     ]
    }
   ],
   "source": [
    "print(mse(o,y))\n",
    "print(cross(o,y))\n",
    "print(loglikelihood(o[3]))"
   ]
  },
  {
   "cell_type": "markdown",
   "metadata": {},
   "source": [
    "### np.array(벡터)에서 ==> sum()하면 요소들의 합 / np.mean()하면 요소들의 평균!\n",
    "### 또한, * (곱셈연산) 하면, 내적이 아니라 요소들의 곱!!\n",
    "### 내적(행렬간의 곱셈) : a.dot(b) "
   ]
  },
  {
   "cell_type": "code",
   "execution_count": 60,
   "metadata": {
    "scrolled": true
   },
   "outputs": [
    {
     "name": "stdout",
     "output_type": "stream",
     "text": [
      "7.0\n",
      "[0.         0.69314718 1.09861229]\n",
      "6\n",
      "[2 4 6]\n",
      "[[0 2 6]\n",
      " [2 2 0]]\n",
      "[ 0 -1 -2]\n",
      "1\n"
     ]
    }
   ],
   "source": [
    "a=np.array([1,2,3])\n",
    "b=np.array([2,2,2])\n",
    "print(mse(a))\n",
    "print(np.log(a))\n",
    "print(sum(a))\n",
    "print(a*b)  # 애초에 행렬간의 곱셈이었으면(요소곱이 아니라), 1x3짜리랑 1x3짜리는 행렬곱 불가!\n",
    "\n",
    "c=np.array([[1,2,3],[-1,-2,-3]])\n",
    "d=np.array([[0,1,2],[-2,-1,0]])\n",
    "print(c*d)\n",
    "\n",
    "print(1-a) # 1-a하면 자동적으로 1은 벡터 a의 크기에 맞춰서 모든 요소가 1인 벡터로 됨!\n",
    "\n",
    "print(a[0])"
   ]
  },
  {
   "cell_type": "markdown",
   "metadata": {},
   "source": [
    "### np.log(np.array()or스칼라값), math.log(스칼라값) ==> 밑이 자연상수 e인 자연로그임! (ln)\n",
    "### np.log10(), math.log10() ==> 이게 밑이 10인 log! (log10)"
   ]
  },
  {
   "cell_type": "code",
   "execution_count": 45,
   "metadata": {
    "scrolled": true
   },
   "outputs": [
    {
     "name": "stdout",
     "output_type": "stream",
     "text": [
      "1.0\n",
      "1.0\n",
      "1.0\n",
      "1.0\n",
      "1.0\n"
     ]
    }
   ],
   "source": [
    "#np.log하면 밑이 자연상수 e인 자연로그임! math.log도 같은데, 얘는 np.array를 다루지 않음! 배열x. 스칼라값을 인자로 받음!!\n",
    "#math.log10 ==> 이게 밑이 10인 log!\n",
    "#그냥 math.log 하면 밑이 자연상수 e\n",
    "print(np.log(np.exp(1)))\n",
    "print(math.log10(10))\n",
    "print(math.log2(2))\n",
    "print(math.log(np.exp(1)))\n",
    "print(np.log2(2))"
   ]
  },
  {
   "cell_type": "markdown",
   "metadata": {},
   "source": [
    "## #3번"
   ]
  },
  {
   "cell_type": "markdown",
   "metadata": {},
   "source": [
    "### 역행렬 : np.linalg.inv(A)\n",
    "### 전치행렬 : A.T\n",
    "### 단위행렬 : np.identity(d) ==> d x d짜리 단위행렬"
   ]
  },
  {
   "cell_type": "code",
   "execution_count": 7,
   "metadata": {},
   "outputs": [],
   "source": [
    "#리지 회귀\n",
    "def ridge_regression(x, y, r):\n",
    "    return np.linalg.inv((x.T).dot(x) + 2*r*np.identity(2)).dot(x.T).dot(y)"
   ]
  },
  {
   "cell_type": "code",
   "execution_count": 9,
   "metadata": {},
   "outputs": [
    {
     "name": "stdout",
     "output_type": "stream",
     "text": [
      "[[1.49158879]\n",
      " [1.36074766]]\n",
      "[[1.61538462]\n",
      " [1.27884615]]\n",
      "[[1.4]\n",
      " [1.4]]\n"
     ]
    }
   ],
   "source": [
    "x = np.array([[1, 1], [2, 3], [3, 3]])\n",
    "y = np.array([[3.0], [7.0], [8.8]])\n",
    "\n",
    "print(ridge_regression(x,y,0.25))\n",
    "print(ridge_regression(x,y,0.1))\n",
    "print(ridge_regression(x,y,0.5))"
   ]
  },
  {
   "cell_type": "code",
   "execution_count": 17,
   "metadata": {},
   "outputs": [
    {
     "name": "stdout",
     "output_type": "stream",
     "text": [
      "[0.04256442]\n",
      "[0.01473928]\n",
      "[0.1]\n"
     ]
    }
   ],
   "source": [
    "#mse로 오차값(e) 구하기 ==> y=xw (x는 훈련집합의 샘플들 행렬)\n",
    "print(mse(x.dot(ridge_regression(x,y,0.25)),y))\n",
    "print(mse(x.dot(ridge_regression(x,y,0.1)),y))  # 람다값이 작아지면 오차가 작아진다. (매개변수인 w는 원점으로부터 멀어진다)\n",
    "print(mse(x.dot(ridge_regression(x,y,0.5)),y))  # 람다값이 커지면 오차가 커진다.  (매개변수인 w는 원점에 좀 더 가까워진다)"
   ]
  },
  {
   "cell_type": "markdown",
   "metadata": {},
   "source": [
    "## #4번"
   ]
  },
  {
   "cell_type": "code",
   "execution_count": 32,
   "metadata": {
    "scrolled": true
   },
   "outputs": [
    {
     "name": "stdout",
     "output_type": "stream",
     "text": [
      "[[ 1.07558528]\n",
      " [-2.83344482]]\n"
     ]
    }
   ],
   "source": [
    "# 4-(1)번 ==> 리지회귀 적용 (최적해 w값 구하기)\n",
    "\n",
    "x_train = np.array([[1,1], [2,2], [1,-1], [1,-2]])\n",
    "y_train = np.array([[-1.8], [-3.6], [4.2], [7.2]])\n",
    "print(ridge_regression(x_train, y_train, 0.25))"
   ]
  },
  {
   "cell_type": "code",
   "execution_count": 33,
   "metadata": {},
   "outputs": [
    {
     "name": "stdout",
     "output_type": "stream",
     "text": [
      "[[-2.6367893]]\n"
     ]
    }
   ],
   "source": [
    "# 4-(2)번 ==> 테스트 샘플 x_test 만들어서 예측하기\n",
    "\n",
    "x_test = np.array([[1.5], [1.5]])  # 테스트 샘플이 x=(1.5 1.5)T 가 입력되었을 때\n",
    "\n",
    "print((x_test.T).dot(ridge_regression(x_train, y_train, 0.25))) #예측값 y. x_test는 2x1짜리 샘플이므로 T하면 1x2, \n",
    "                                                                #리지회귀를 적용해서 구한 최적해 w 는 2x1짜리 벡터(행렬)\n",
    "# 훈련샘플의 x1과 x2의 중간값 정도인 (1.5 1.5)로 테스트해보니, 훈련샘플 y1(-1.8), y2(-3.6)의 중간값 정도로 결과가 나왔다!"
   ]
  },
  {
   "cell_type": "code",
   "execution_count": 35,
   "metadata": {
    "scrolled": true
   },
   "outputs": [
    {
     "name": "stdout",
     "output_type": "stream",
     "text": [
      "[[ 1.13493333]\n",
      " [-2.91413333]]\n",
      "[[ 0.97142857]\n",
      " [-2.68571429]]\n"
     ]
    }
   ],
   "source": [
    "# 4-(3)번\n",
    "\n",
    "# 1.람다에 따른 최적해 w 구하기 (훈련집합으로)\n",
    "print(ridge_regression(x_train, y_train, 0.125))\n",
    "print(ridge_regression(x_train, y_train, 0.5))"
   ]
  },
  {
   "cell_type": "code",
   "execution_count": 42,
   "metadata": {},
   "outputs": [
    {
     "name": "stdout",
     "output_type": "stream",
     "text": [
      "[[-1.7792    ]\n",
      " [-3.5584    ]\n",
      " [ 4.04906667]\n",
      " [ 6.9632    ]]\n",
      "[[-1.71428571]\n",
      " [-3.42857143]\n",
      " [ 3.65714286]\n",
      " [ 6.34285714]]\n"
     ]
    }
   ],
   "source": [
    "# 4-(3)번\n",
    "\n",
    "# 2.람다에 따른 w를 가지고 각각 예측값 구하기(y=xTw) ==> 여기에서 x는 훈련집합! (테스트샘플X) ==> 모든 샘플들 4개의 예측값 구해서 y훈련집합과 비교\n",
    "print(x_train.dot(ridge_regression(x_train, y_train, 0.125)))\n",
    "print(x_train.dot(ridge_regression(x_train, y_train, 0.5)))"
   ]
  },
  {
   "cell_type": "code",
   "execution_count": 44,
   "metadata": {
    "scrolled": true
   },
   "outputs": [
    {
     "name": "stdout",
     "output_type": "stream",
     "text": [
      "[0.15143589]\n",
      "[0.04050916]\n",
      "[0.53306122]\n"
     ]
    }
   ],
   "source": [
    "# 4-(3)번\n",
    "\n",
    "# 3.람다에 따른 효과 ==> 오차 구하기(mse)\n",
    "print(mse(x_train.dot(ridge_regression(x_train, y_train, 0.25)),y_train))\n",
    "print(mse(x_train.dot(ridge_regression(x_train, y_train, 0.125)),y_train))  #람다가 작아지면\n",
    "print(mse(x_train.dot(ridge_regression(x_train, y_train, 0.5)), y_train))   #람다가 커지면 \n",
    "\n",
    "# 따라서 람다가 작아지면 오차가 작아지고, 람다가 커지면 오차가 커진다."
   ]
  },
  {
   "cell_type": "markdown",
   "metadata": {},
   "source": [
    "## #5번"
   ]
  },
  {
   "cell_type": "code",
   "execution_count": null,
   "metadata": {},
   "outputs": [],
   "source": [
    "# 5-(2)번\n",
    "\n",
    "blood = np.array([121, 140, 120, 131, 101])\n",
    "height = np.array([1.72, 1.62, 1.70, 1.80, 1.78])\n",
    "weight = np.array([69.0, 63.2, 59.0, 82.0, 73.5])"
   ]
  }
 ],
 "metadata": {
  "kernelspec": {
   "display_name": "Python 3",
   "language": "python",
   "name": "python3"
  },
  "language_info": {
   "codemirror_mode": {
    "name": "ipython",
    "version": 3
   },
   "file_extension": ".py",
   "mimetype": "text/x-python",
   "name": "python",
   "nbconvert_exporter": "python",
   "pygments_lexer": "ipython3",
   "version": "3.7.3"
  }
 },
 "nbformat": 4,
 "nbformat_minor": 2
}
