{
 "cells": [
  {
   "cell_type": "code",
   "execution_count": 5,
   "metadata": {},
   "outputs": [
    {
     "name": "stdout",
     "output_type": "stream",
     "text": [
      "알파벳 소문자로만 이루어진 단어를 입력하세요 : baekjoon\n",
      "['b', 'a', 'e', 'k', 'j', 'o', 'o', 'n']\n",
      "1 0 -1 -1 2 -1 -1 -1 -1 4 3 -1 -1 7 5 -1 -1 -1 -1 -1 -1 -1 -1 -1 -1 -1 "
     ]
    }
   ],
   "source": [
    "# 각 알파벳(a~z)에 대해 \n",
    "# 1. 단어에 포함되어있는경우 : 처음 등장 위치 출력\n",
    "# 2. 단어에 포함되어있지 X경우 : -1 출력 \n",
    "\n",
    "# 일단 알파벳 각각에 대해 인덱스를 숫자로 부여해야할 듯! -> for문 돌리기 위해\n",
    "\n",
    "voca=input('알파벳 소문자로만 이루어진 단어를 입력하세요 : ')\n",
    "S=list(voca)  # 배열 S에 입력받은 문자열 한글자씩 끊어서 만든 리스트 대입!\n",
    "#print(S)\n",
    "alphabet=['a','b','c','d','e','f','g','h','i','j','k','l','m','n','o','p',\n",
    "'q','r','s','t','u','v','w','x','y','z']  # 알파벳에 인덱스 부여\n",
    "# 이 알파벳 배열은 계속 써야하므로 이 배열에 다시 출력값 넣으면 안됨! 새로운배열에 ㄱㄱ\n",
    "\n",
    "arr=[]  # 출력값 넣을 새로운 배열 만들기\n",
    "\n",
    "for i in range(26): # 알파벳 총 26개... 26번 for문 돌려서 단어에 각 알파벳 있나없나 검사\n",
    "    j=0  # 다시 입력단어를 첫 알파벳부터 확인하도록 리셋 시켜줘야함!!\n",
    "    while 1:\n",
    "        if(j>=len(S)):\n",
    "            arr.append(-1)\n",
    "            break\n",
    "        else:\n",
    "            if(alphabet[i]==S[j]):\n",
    "                arr.append(j)\n",
    "                i+=1\n",
    "                break  # 처음 등장한거 발견하고나면 더이상 j가 for문 돌 필요 X\n",
    "            else:\n",
    "                j+=1\n",
    "\n",
    "# 처음 등장한거 발견하고나면 더이상 j가 for문 돌 필요 X\n",
    "# 여.기.서!!! break하면 for문 하나만 밖으로 나가므로, \n",
    "# 바깥의 for문 돌기 전에 있는, 안쪽 for문 바로 다음에 있는\n",
    "# arr.append(-1) 가 실행되고서는 바깥 for문으로 나가게됨ㅠㅠ\n",
    "# 그래서 자꾸 -1이 하나씩 사이에 ... 하나씩 더 들어갔던것ㅠ\n",
    "# 따라서 break쓰면 안됨ㅠㅠ => for말고, while문으로 쓰기!!\n",
    "    \n",
    "for k in range(len(arr)):\n",
    "    print(arr[k], end=' ')  # 줄바꿈(\\n) 대신 매번 배열의 요소들 출력할때마다 end에 넣어준\n",
    "                            # 문자가 추가되어 출력된다! 따라서 for문으로 반복해줘야! "
   ]
  },
  {
   "cell_type": "code",
   "execution_count": null,
   "metadata": {},
   "outputs": [],
   "source": []
  }
 ],
 "metadata": {
  "kernelspec": {
   "display_name": "Python 3",
   "language": "python",
   "name": "python3"
  },
  "language_info": {
   "codemirror_mode": {
    "name": "ipython",
    "version": 3
   },
   "file_extension": ".py",
   "mimetype": "text/x-python",
   "name": "python",
   "nbconvert_exporter": "python",
   "pygments_lexer": "ipython3",
   "version": "3.7.3"
  }
 },
 "nbformat": 4,
 "nbformat_minor": 2
}
