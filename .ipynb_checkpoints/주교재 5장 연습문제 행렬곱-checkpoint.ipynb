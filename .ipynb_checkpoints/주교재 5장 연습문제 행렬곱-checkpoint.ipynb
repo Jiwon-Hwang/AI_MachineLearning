{
 "cells": [
  {
   "cell_type": "code",
   "execution_count": 3,
   "metadata": {},
   "outputs": [],
   "source": [
    "import numpy as np"
   ]
  },
  {
   "cell_type": "code",
   "execution_count": 12,
   "metadata": {},
   "outputs": [],
   "source": [
    "#U=[]\n",
    "#U[1]=np.array([[-0.3, 1.0, 1.2], [1.6, -1.0, -1.1]])\n",
    "#U[2]=np.array([[1.0, 1.0, -1.0], [0.7, 0.5, 1.0]])\n",
    "#U[3]=np.array([[0.5, -0.8, 1.0], [-0.1, 0.3, 0.4]])\n",
    "#U[4]=np.array([[1.0, 0.1, -0.2], [-0.2, 1.3, -0.4]])\n",
    "\n",
    "# 만들고 싶은 배열에 원소 없는 상태에서 바로 인덱스로 접근해서 값 넣을 수는 없음!!\n",
    "# cf. np.array : ndarray형. 이건 벡터 연산(덧셈 등)이 가능"
   ]
  },
  {
   "cell_type": "code",
   "execution_count": 22,
   "metadata": {},
   "outputs": [
    {
     "name": "stdout",
     "output_type": "stream",
     "text": [
      "[[1 2]\n",
      " [3 4]\n",
      " [5 6]\n",
      " [7 8]]\n",
      "[[1 2 5 6]\n",
      " [3 4 7 8]]\n"
     ]
    }
   ],
   "source": [
    "A = np.array([[1, 2], [3, 4]])\n",
    "B = np.array([[5, 6], [7, 8]])\n",
    "C_Y = np.concatenate((A, B), axis = 0)\n",
    "print(C_Y)\n",
    "C_X = np.concatenate((A, B), axis = 1)\n",
    "print(C_X)"
   ]
  },
  {
   "cell_type": "code",
   "execution_count": 23,
   "metadata": {},
   "outputs": [
    {
     "ename": "NameError",
     "evalue": "name 'X_train' is not defined",
     "output_type": "error",
     "traceback": [
      "\u001b[1;31m---------------------------------------------------------------------------\u001b[0m",
      "\u001b[1;31mNameError\u001b[0m                                 Traceback (most recent call last)",
      "\u001b[1;32m<ipython-input-23-be964cd1db6d>\u001b[0m in \u001b[0;36m<module>\u001b[1;34m\u001b[0m\n\u001b[0;32m     36\u001b[0m \u001b[0mM\u001b[0m \u001b[1;33m=\u001b[0m \u001b[1;36m2\u001b[0m\u001b[1;33m\u001b[0m\u001b[1;33m\u001b[0m\u001b[0m\n\u001b[0;32m     37\u001b[0m \u001b[0mK\u001b[0m \u001b[1;33m=\u001b[0m \u001b[1;36m3\u001b[0m\u001b[1;33m\u001b[0m\u001b[1;33m\u001b[0m\u001b[0m\n\u001b[1;32m---> 38\u001b[1;33m \u001b[0mFNN\u001b[0m\u001b[1;33m(\u001b[0m\u001b[0mWV\u001b[0m\u001b[1;33m,\u001b[0m \u001b[0mM\u001b[0m\u001b[1;33m,\u001b[0m \u001b[0mK\u001b[0m\u001b[1;33m,\u001b[0m \u001b[0mX_train\u001b[0m\u001b[1;33m[\u001b[0m\u001b[1;33m:\u001b[0m\u001b[1;36m2\u001b[0m\u001b[1;33m,\u001b[0m \u001b[1;33m:\u001b[0m\u001b[1;33m]\u001b[0m\u001b[1;33m)\u001b[0m\u001b[1;33m\u001b[0m\u001b[1;33m\u001b[0m\u001b[0m\n\u001b[0m",
      "\u001b[1;31mNameError\u001b[0m: name 'X_train' is not defined"
     ]
    }
   ],
   "source": [
    "# 리스트 7-1-(4)\n",
    "# 시그모이드 함수 ------------------------\n",
    "def Sigmoid(x):\n",
    "    y = 1 / (1 + np.exp(-x))\n",
    "    return y\n",
    "\n",
    "\n",
    "# 네트워크 ------------------------\n",
    "def FNN(wv, M, K, x):\n",
    "    N, D = x.shape # 입력 차원\n",
    "    w = wv[:M * (D + 1)] # 중간층 뉴런의 가중치\n",
    "    w = w.reshape(M, (D + 1))\n",
    "    v = wv[M * (D + 1):] # 출력층 뉴런의 가중치\n",
    "    v = v.reshape((K, M + 1))\n",
    "    b = np.zeros((N, M + 1)) # 중간층 뉴런의 입력 총합\n",
    "    z = np.zeros((N, M + 1)) # 중간층 뉴런의 출력\n",
    "    a = np.zeros((N, K)) # 출력층 뉴런의 입력 총합\n",
    "    y = np.zeros((N, K)) # 출력층 뉴런의 출력\n",
    "    for n in range(N):\n",
    "        # 중간층의 계산\n",
    "        for m in range(M):\n",
    "            b[n, m] = np.dot(w[m, :], np.r_[x[n, :], 1]) # (A)\n",
    "            z[n, m] = Sigmoid(b[n, m])\n",
    "        # 출력층의 계산\n",
    "        z[n, M] = 1 # 더미 뉴런\n",
    "        wkz = 0\n",
    "        for k in range(K):\n",
    "            a[n, k] = np.dot(v[k, :], z[n, :])\n",
    "            wkz = wkz + np.exp(a[n, k])\n",
    "        for k in range(K):\n",
    "            y[n, k] = np.exp(a[n, k]) / wkz\n",
    "    return y, a, z, b\n",
    "\n",
    "# test ---\n",
    "WV = np.ones(15) # Mx(D+1)+ Kx(M+1) = 2x3+3x3 = 15, 모든 가중치를 1로 초기화\n",
    "M = 2\n",
    "K = 3\n",
    "FNN(WV, M, K, X_train[:2, :])"
   ]
  },
  {
   "cell_type": "code",
   "execution_count": 6,
   "metadata": {},
   "outputs": [],
   "source": [
    "U=[np.array([[-0.3, 1.0, 1.2], [1.6, -1.0, -1.1]]),\n",
    "   np.array([[1.0, 1.0, -1.0], [0.7, 0.5, 1.0]]),\n",
    "   np.array([[0.5, -0.8, 1.0], [-0.1, 0.3, 0.4]]),\n",
    "   np.array([[1.0, 0.1, -0.2], [-0.2, 1.3, -0.4]])\n",
    "  ]"
   ]
  },
  {
   "cell_type": "code",
   "execution_count": 41,
   "metadata": {},
   "outputs": [],
   "source": [
    "def sigmoid(x):\n",
    "    return 1 / (1 + np.exp(-x))"
   ]
  },
  {
   "cell_type": "code",
   "execution_count": 42,
   "metadata": {
    "scrolled": true
   },
   "outputs": [],
   "source": [
    "def ReLU(x):\n",
    "    return max(0,x)"
   ]
  },
  {
   "cell_type": "code",
   "execution_count": 43,
   "metadata": {},
   "outputs": [
    {
     "name": "stdout",
     "output_type": "stream",
     "text": [
      "[[1]\n",
      " [1]\n",
      " [0]]\n"
     ]
    }
   ],
   "source": [
    "x = np.array([[1,1,0]])\n",
    "x = np.transpose(x)\n",
    "print(x)"
   ]
  },
  {
   "cell_type": "code",
   "execution_count": 44,
   "metadata": {},
   "outputs": [
    {
     "name": "stdout",
     "output_type": "stream",
     "text": [
      "[[0.7]\n",
      " [0.6]]\n",
      "0.7\n",
      "0.6\n"
     ]
    }
   ],
   "source": [
    "print(U[0].dot(x))\n",
    "print(ReLU(0.7))\n",
    "print(ReLU(0.6))"
   ]
  },
  {
   "cell_type": "code",
   "execution_count": 45,
   "metadata": {},
   "outputs": [
    {
     "name": "stdout",
     "output_type": "stream",
     "text": [
      "[[1. ]\n",
      " [0.7]\n",
      " [0.6]]\n"
     ]
    }
   ],
   "source": [
    "x = np.array([[1, 0.7, 0.6]])\n",
    "x = np.transpose(x)\n",
    "print(x)"
   ]
  },
  {
   "cell_type": "code",
   "execution_count": 46,
   "metadata": {},
   "outputs": [
    {
     "name": "stdout",
     "output_type": "stream",
     "text": [
      "[[1.1 ]\n",
      " [1.65]]\n"
     ]
    }
   ],
   "source": [
    "print(U[1].dot(x))"
   ]
  },
  {
   "cell_type": "code",
   "execution_count": 47,
   "metadata": {},
   "outputs": [
    {
     "name": "stdout",
     "output_type": "stream",
     "text": [
      "1.1\n",
      "1.65\n"
     ]
    }
   ],
   "source": [
    "print(ReLU(1.1))\n",
    "print(ReLU(1.65))"
   ]
  },
  {
   "cell_type": "code",
   "execution_count": 48,
   "metadata": {},
   "outputs": [
    {
     "name": "stdout",
     "output_type": "stream",
     "text": [
      "[[1.  ]\n",
      " [1.1 ]\n",
      " [1.65]]\n"
     ]
    }
   ],
   "source": [
    "x = np.array([[1, 1.1, 1.65]])\n",
    "x = np.transpose(x)\n",
    "print(x)"
   ]
  },
  {
   "cell_type": "code",
   "execution_count": 49,
   "metadata": {},
   "outputs": [
    {
     "name": "stdout",
     "output_type": "stream",
     "text": [
      "[[1.27]\n",
      " [0.89]]\n"
     ]
    }
   ],
   "source": [
    "print(U[2].dot(x))"
   ]
  },
  {
   "cell_type": "code",
   "execution_count": 50,
   "metadata": {},
   "outputs": [
    {
     "name": "stdout",
     "output_type": "stream",
     "text": [
      "1.27\n",
      "0.89\n"
     ]
    }
   ],
   "source": [
    "print(ReLU(1.27))\n",
    "print(ReLU(0.89))"
   ]
  },
  {
   "cell_type": "code",
   "execution_count": 51,
   "metadata": {},
   "outputs": [
    {
     "name": "stdout",
     "output_type": "stream",
     "text": [
      "[[1.  ]\n",
      " [1.27]\n",
      " [0.89]]\n"
     ]
    }
   ],
   "source": [
    "x = np.array([[1, 1.27, 0.89]])\n",
    "x = np.transpose(x)\n",
    "print(x)"
   ]
  },
  {
   "cell_type": "code",
   "execution_count": 52,
   "metadata": {},
   "outputs": [
    {
     "name": "stdout",
     "output_type": "stream",
     "text": [
      "[[0.949]\n",
      " [1.095]]\n"
     ]
    }
   ],
   "source": [
    "print(U[3].dot(x))"
   ]
  },
  {
   "cell_type": "code",
   "execution_count": 53,
   "metadata": {},
   "outputs": [
    {
     "name": "stdout",
     "output_type": "stream",
     "text": [
      "0.949\n",
      "1.095\n"
     ]
    }
   ],
   "source": [
    "print(ReLU(0.949))\n",
    "print(ReLU(1.095))"
   ]
  },
  {
   "cell_type": "code",
   "execution_count": 7,
   "metadata": {},
   "outputs": [],
   "source": [
    "def convolution2d(image, kernel):\n",
    "    m, n = kernel.shape\n",
    "    if (m == n):\n",
    "        y, x = image.shape\n",
    "        y = y - m + 1\n",
    "        x = x - m + 1\n",
    "        new_image = np.zeros((y,x))\n",
    "        for i in range(y):\n",
    "            for j in range(x):\n",
    "                new_image[i][j] = np.sum(image[i:i+m, j:j+m]*kernel)\n",
    "    return new_image"
   ]
  },
  {
   "cell_type": "code",
   "execution_count": 17,
   "metadata": {},
   "outputs": [],
   "source": [
    "R = np.array([[0,0,0,0,0], [0,1,1,1,0], [0,0,0,3,0], [2,2,0,0,0], [0,1,0,0,0]])  # print(R.shape) ==> (5,5)\n",
    "G = np.array([[0,0,0,0,0], [0,2,2,2,0], [0,0,0,1,0], [3,0,0,1,0], [0,1,0,0,0]])\n",
    "B = np.array([[0,0,0,0,0], [0,0,3,0,0], [0,1,0,1,0], [0,1,0,0,0], [0,0,0,0,0]])\n",
    "\n",
    "c1 = np.array([[0,0,0], [0,0,1], [0,1,0]])\n",
    "c2 = np.array([[0,2,0], [0,2,0], [0,2,0]])\n",
    "c3 = np.array([[1,0,0], [0,2,0], [0,0,1]])"
   ]
  }
 ],
 "metadata": {
  "kernelspec": {
   "display_name": "Python 3",
   "language": "python",
   "name": "python3"
  },
  "language_info": {
   "codemirror_mode": {
    "name": "ipython",
    "version": 3
   },
   "file_extension": ".py",
   "mimetype": "text/x-python",
   "name": "python",
   "nbconvert_exporter": "python",
   "pygments_lexer": "ipython3",
   "version": "3.7.3"
  }
 },
 "nbformat": 4,
 "nbformat_minor": 2
}
